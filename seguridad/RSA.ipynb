{
 "cells": [
  {
   "cell_type": "markdown",
   "metadata": {},
   "source": [
    "# Encrypt RSA\n",
    "\n",
    "## Aime Lopez Perez\n",
    "## Arturo Guerrero López\n",
    "\n",
    "Primero elegimos dos valores primos q y p"
   ]
  },
  {
   "cell_type": "code",
   "execution_count": 2,
   "metadata": {},
   "outputs": [],
   "source": [
    "p=11\n",
    "q=5"
   ]
  },
  {
   "cell_type": "markdown",
   "metadata": {},
   "source": [
    "Despues calcularemos N = p*q"
   ]
  },
  {
   "cell_type": "code",
   "execution_count": 3,
   "metadata": {},
   "outputs": [
    {
     "data": {
      "text/plain": [
       "55"
      ]
     },
     "execution_count": 3,
     "metadata": {},
     "output_type": "execute_result"
    }
   ],
   "source": [
    "n=p*q\n",
    "n"
   ]
  },
  {
   "cell_type": "markdown",
   "metadata": {},
   "source": [
    "Despues calcularemos el indicador de euler phi\n",
    "\n",
    "$$\\phi_n=(p-1)(q-1)$$"
   ]
  },
  {
   "cell_type": "code",
   "execution_count": 4,
   "metadata": {},
   "outputs": [
    {
     "data": {
      "text/plain": [
       "40"
      ]
     },
     "execution_count": 4,
     "metadata": {},
     "output_type": "execute_result"
    }
   ],
   "source": [
    "phi=(p-1)*(q-1)\n",
    "phi"
   ]
  },
  {
   "cell_type": "markdown",
   "metadata": {},
   "source": [
    "Despues elegimos un valor e el cual sea \n",
    "\n",
    "1 < e < $\\phi_n$\n",
    "\n",
    "$mcd[e,\\phi_n]=1$"
   ]
  },
  {
   "cell_type": "code",
   "execution_count": 5,
   "metadata": {},
   "outputs": [],
   "source": [
    "e=3"
   ]
  },
  {
   "cell_type": "markdown",
   "metadata": {},
   "source": [
    "Llave privada"
   ]
  },
  {
   "cell_type": "code",
   "execution_count": 6,
   "metadata": {},
   "outputs": [
    {
     "name": "stdout",
     "output_type": "stream",
     "text": [
      "[0, 40, 1, 0]\n",
      "[0, 3, 0, 1]\n",
      "[13, 1, 1, -13]\n",
      "[3, 0, -3, 40]\n"
     ]
    }
   ],
   "source": [
    "from math import floor\n",
    "def extendido(a,b):\n",
    "  if b>a:\n",
    "    print(\"el segundo valor es mayor que el primero\")\n",
    "    return False\n",
    "  arr=[]\n",
    "  arr.append([0,a,1,0])\n",
    "  arr.append([0,b,0,1])\n",
    "  g=b\n",
    "  y=0\n",
    "  u=0\n",
    "  v=0\n",
    "  cont=1\n",
    "\n",
    "  while g!=0:\n",
    "    y=floor(arr[cont-1][1]/arr[cont][1])\n",
    "    g=floor(arr[cont-1][1]-y*arr[cont][1])\n",
    "    u=floor(arr[cont-1][2]-y*arr[cont][2])\n",
    "    v=floor(arr[cont-1][3]-y*arr[cont][3])\n",
    "    arr.append([y,g,u,v])\n",
    "    #print(y,g,u,v)\n",
    "    cont=cont+1\n",
    "  return arr\n",
    "\n",
    "for i in extendido(phi,e):\n",
    "  print(i)\n"
   ]
  },
  {
   "cell_type": "code",
   "execution_count": 7,
   "metadata": {},
   "outputs": [
    {
     "data": {
      "text/plain": [
       "27"
      ]
     },
     "execution_count": 7,
     "metadata": {},
     "output_type": "execute_result"
    }
   ],
   "source": [
    "priv=40-13\n",
    "priv"
   ]
  },
  {
   "cell_type": "code",
   "execution_count": 8,
   "metadata": {},
   "outputs": [],
   "source": [
    "def toNumber(x):\n",
    "    arr=[]\n",
    "    for i in list(x):\n",
    "        arr.append(ord(i)-96)\n",
    "    return arr"
   ]
  },
  {
   "cell_type": "code",
   "execution_count": 9,
   "metadata": {},
   "outputs": [
    {
     "data": {
      "text/plain": [
       "[20, 5, 1, 13, 15]"
      ]
     },
     "execution_count": 9,
     "metadata": {},
     "output_type": "execute_result"
    }
   ],
   "source": [
    "toNumber(\"teamo\")"
   ]
  },
  {
   "cell_type": "code",
   "execution_count": 10,
   "metadata": {},
   "outputs": [],
   "source": [
    "def encriptRSA(msj,e,n):\n",
    "    arr=[]\n",
    "    for i in toNumber(msj):\n",
    "        arr.append((i**e)%n)\n",
    "    return arr\n",
    "        "
   ]
  },
  {
   "cell_type": "code",
   "execution_count": 11,
   "metadata": {},
   "outputs": [
    {
     "data": {
      "text/plain": [
       "[24, 109, 1, 325, 97, 1, 237, 325, 109]"
      ]
     },
     "execution_count": 11,
     "metadata": {},
     "output_type": "execute_result"
    }
   ],
   "source": [
    "encriptRSA(\"teamoaime\",5,377)"
   ]
  },
  {
   "cell_type": "markdown",
   "metadata": {},
   "source": [
    "# Decrypt RSA"
   ]
  },
  {
   "cell_type": "code",
   "execution_count": 16,
   "metadata": {},
   "outputs": [],
   "source": [
    "def decryptRSA(msj,priv,n):\n",
    "    arr=[]\n",
    "    for i in msj:\n",
    "        arr.append((i**priv)%n)\n",
    "    return arr"
   ]
  },
  {
   "cell_type": "code",
   "execution_count": 17,
   "metadata": {},
   "outputs": [
    {
     "data": {
      "text/plain": [
       "[20, 5, 1, 13, 15, 1, 9, 13, 5]"
      ]
     },
     "execution_count": 17,
     "metadata": {},
     "output_type": "execute_result"
    }
   ],
   "source": [
    "msj=decryptRSA([24, 109, 1, 325, 97, 1, 237, 325, 109],269,377)\n",
    "msj"
   ]
  },
  {
   "cell_type": "code",
   "execution_count": 21,
   "metadata": {},
   "outputs": [],
   "source": [
    "def toText(x):\n",
    "    arr=[]\n",
    "    for i in x:\n",
    "        arr.append(chr(i+96))\n",
    "    return ''.join(arr)"
   ]
  },
  {
   "cell_type": "code",
   "execution_count": 22,
   "metadata": {},
   "outputs": [
    {
     "data": {
      "text/plain": [
       "'teamoaime'"
      ]
     },
     "execution_count": 22,
     "metadata": {},
     "output_type": "execute_result"
    }
   ],
   "source": [
    "toText(msj)"
   ]
  },
  {
   "cell_type": "code",
   "execution_count": null,
   "metadata": {},
   "outputs": [],
   "source": []
  }
 ],
 "metadata": {
  "kernelspec": {
   "display_name": "Python 3",
   "language": "python",
   "name": "python3"
  },
  "language_info": {
   "codemirror_mode": {
    "name": "ipython",
    "version": 3
   },
   "file_extension": ".py",
   "mimetype": "text/x-python",
   "name": "python",
   "nbconvert_exporter": "python",
   "pygments_lexer": "ipython3",
   "version": "3.7.2"
  }
 },
 "nbformat": 4,
 "nbformat_minor": 2
}
